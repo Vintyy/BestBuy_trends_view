{
 "cells": [
  {
   "cell_type": "markdown",
   "metadata": {},
   "source": [
    "## Name : Vineeth Das\n",
    "## Student Number : 19200227"
   ]
  },
  {
   "cell_type": "code",
   "execution_count": null,
   "metadata": {},
   "outputs": [],
   "source": [
    "# importing the required packages....\n",
    "import os\n",
    "import urllib.request\n",
    "import csv\n",
    "import pandas as pd\n",
    "import requests\n",
    "import json\n",
    "import matplotlib.pyplot as plt\n",
    "from matplotlib.pyplot import figure\n",
    "import seaborn as sns\n",
    "import re\n",
    "\n"
   ]
  },
  {
   "cell_type": "markdown",
   "metadata": {},
   "source": [
    "## Task 1: Choosing the relevant API\n",
    "### Two different APIs were choosed for this project provided by BestBuy - https://bestbuyapis.github.io/api-documentation/#response-format\n",
    "#### The first API is used to return the categories \n",
    "#### The second API is used to return the trending products based on the categories\n",
    "\n",
    "#### The API Key used for this project which I received from BestBuy - api_key = 'AEgiKjbX9RGicnRUVw2EtyyP'"
   ]
  },
  {
   "cell_type": "code",
   "execution_count": 2,
   "metadata": {},
   "outputs": [],
   "source": [
    "# the API Key received from Best Buy Co Inc. - USA\n",
    "api_key = 'AEgiKjbX9RGicnRUVw2EtyyP'\n",
    "\n",
    "# to retrieve the id and name of all the categories contained in BestBuy\n",
    "api_url = 'https://api.bestbuy.com/v1/categories?format=json&show=id,name&page=40&pageSize=10&apiKey=AEgiKjbX9RGicnRUVw2EtyyP'\n",
    "\n",
    "# url to retrieve the trending products category vice...\n",
    "trend_url = 'https://api.bestbuy.com/beta/products/trendingViewed(categoryId=cat02002)?&pageSize=20&show=all&apiKey=AEgiKjbX9RGicnRUVw2EtyyP'\n",
    "\n"
   ]
  },
  {
   "cell_type": "markdown",
   "metadata": {},
   "source": [
    "## Task 2: Collect data your chosen API:-\n",
    "\n",
    "### Bestbuy only allows 100 items to be retrived per search results, so for getting all the 428 pages,\n",
    "### an additional loop needs to be written, which would select all the pages individually and retrieve the\n",
    "### ids,name which could then be used to get the rating for the same.\n",
    "\n",
    "\n",
    "### The below loop will return the details of all the categories in a .json file, which could be lter traversed to get the required details..."
   ]
  },
  {
   "cell_type": "code",
   "execution_count": 3,
   "metadata": {},
   "outputs": [],
   "source": [
    "# Loop to be run to get the category names and ids \n",
    "\n",
    "page = 1\n",
    "\n",
    "for i in range(40):# range of 40, as there are 40 pages showing the categorization\n",
    "    if (i == 0):\n",
    "        with open('categories.json','a',encoding='utf-8') as f:\n",
    "            f.write('{ \"data\":[') # adding the extra dict key-value [pair] to update the json with each iterations....\n",
    "        \n",
    "    api_url = 'https://api.bestbuy.com/v1/categories?format=json&show=id,name&page='+str(page)+'&pageSize=100&apiKey=AEgiKjbX9RGicnRUVw2EtyyP'\n",
    "    page +=1\n",
    "    r = requests.get(api_url)\n",
    "    data = r.json()\n",
    "    with open('categories.json','a',encoding='utf-8') as f:\n",
    "        json.dump(data,f,ensure_ascii=False)\n",
    "        if(i!=39):\n",
    "            f.write(',') # adding a comma, to convert the requests (coming in the loop) as value for the pair for easier later iterations\n",
    "        if(i==39):\n",
    "            f.write(']}')\n",
    "    \n",
    " "
   ]
  },
  {
   "cell_type": "markdown",
   "metadata": {},
   "source": [
    "## Task 2.1 : Traversing the last .json file to return the id categories and name\n",
    "### Storing all categories api related values to a file, and using the below code to seperate them...."
   ]
  },
  {
   "cell_type": "code",
   "execution_count": 3,
   "metadata": {
    "scrolled": true
   },
   "outputs": [],
   "source": [
    "with open('categories.json',encoding=\"utf8\") as f_in:\n",
    "    parsed_json = (json.load(f_in))\n",
    "\n",
    "# Storing the ids and  names in seperate list for later use...\n",
    "\n",
    "id_categories = []\n",
    "id_name = []\n",
    "\n",
    "for i in range(40): # as there are total 40 pages\n",
    "    for j in range(100): # and 100 results per page\n",
    "        ids = parsed_json['data'][i]['categories'][j]['id']\n",
    "        name = parsed_json['data'][i]['categories'][j]['name']\n",
    "        id_categories.append(ids) # to add the ids in the respective list\n",
    "        id_name.append(name) # to add the name in the respective list\n",
    "        \n",
    "#example on how to traverse the parsed json file    \n",
    "#parsed_json['data'][0]['categories'][0]['name']\n"
   ]
  },
  {
   "cell_type": "markdown",
   "metadata": {},
   "source": [
    "## Task 3 : getting the details according to the second API and storing the data into a dataframe\n",
    "### Adding the below logic to get the trending products according to the id categories...."
   ]
  },
  {
   "cell_type": "code",
   "execution_count": 3,
   "metadata": {
    "scrolled": true
   },
   "outputs": [],
   "source": [
    "# loop for getting the trends in each of the categories......(no need to run everytime....)\n",
    "trend_url = 'https://api.bestbuy.com/beta/products/trendingViewed(categoryId=abcat0201000)?&pageSize=20&show=all&apiKey=AEgiKjbX9RGicnRUVw2EtyyP'\n",
    "\n",
    "for i in range(len(id_categories)):\n",
    "    if (i == 0):\n",
    "        with open('trends.json','a',encoding='utf-8') as f:\n",
    "            f.write('{ \"data\":[') # adding the extra dict key-value [pair] to update the json with each iterations....\n",
    "    trend_url = 'https://api.bestbuy.com/beta/products/trendingViewed(categoryId='+(id_categories[i])+')?&pageSize=100&show=all&apiKey=AEgiKjbX9RGicnRUVw2EtyyP'\n",
    "    r = requests.get(trend_url)\n",
    "    data_all = r.json()\n",
    "    with open('trends.json','a',encoding='utf-8') as f:\n",
    "        json.dump(data_all,f,ensure_ascii=False)\n",
    "        if(i!=(len(id_categories)-1)):\n",
    "            f.write(',')  # adding a comma, to convert the requests (coming in the loop) as value for the pair for easier later iterations\n",
    "        if(i==(len(id_categories)-1)):\n",
    "            f.write(']}')\n",
    "\n",
    "            \n"
   ]
  },
  {
   "cell_type": "code",
   "execution_count": 5,
   "metadata": {},
   "outputs": [],
   "source": [
    "# Storing all the data in a variable and then storing the same as a DataFrame            \n",
    "with open('trends.json',encoding=\"utf8\") as f_in:\n",
    "    parsed_json_all = (json.load(f_in))    \n",
    "    \n",
    "# to store all data of the json file as a dataframe for later use....\n",
    "all_data = pd.DataFrame(parsed_json_all['data'])\n"
   ]
  },
  {
   "cell_type": "markdown",
   "metadata": {},
   "source": [
    "## Task 4: Load and represent the data using an appropriate data structure. Apply any pre-processing steps to clean/filter/combine the data"
   ]
  },
  {
   "cell_type": "code",
   "execution_count": 6,
   "metadata": {},
   "outputs": [],
   "source": [
    "# logic to retrive all the category ids from all_data....\n",
    "\n",
    "Category_id = pd.Series([]) \n",
    "Category_name = pd.Series([])\n",
    "Sku = pd.Series([])\n",
    "Product_score = pd.Series([])\n",
    "Review_count = pd.Series([])\n",
    "Regular_price = pd.Series([])\n",
    "Current_price = pd.Series([])\n",
    "Rank = pd.Series([])\n",
    "Name = pd.Series([])\n",
    "\n",
    "Bestbuy = pd.DataFrame()\n",
    "cid = []\n",
    "j = 0\n",
    "for i in range(len(all_data)):\n",
    "    try:                    # Using Try and Except functionality of python to get only the complete data for each of categories\n",
    "        for k in range(len(all_data['results'][i])):\n",
    "            Sku[j] = all_data['results'][i][k]['sku']\n",
    "            Product_score[j] = all_data['results'][i][k]['customerReviews']['averageScore']\n",
    "            Review_count[j] = all_data['results'][i][k]['customerReviews']['count']\n",
    "            Regular_price[j] = all_data['results'][i][k]['prices']['regular']\n",
    "            Current_price[j] = all_data['results'][i][k]['prices']['current']\n",
    "            Rank[j] = all_data['results'][i][k]['rank']\n",
    "            Name[j] = all_data['results'][i][k]['names']['title']\n",
    "            Category_id[j] = id_categories[i]\n",
    "            Category_name[j]= id_name[i] \n",
    "            j += 1 # to increment the values, such that the entire dataframe rows gets incremented\n",
    "    except: # this will continue the loop in case if the data is absent for a category\n",
    "        continue\n",
    "        \n",
    "#inserting the looped values to the dataframe columnwise....        \n",
    "Bestbuy.insert(0,'Category_id',Category_id)    \n",
    "Bestbuy.insert(1,'Category_name',Category_name)\n",
    "Bestbuy.insert(2,'SKU',Sku)\n",
    "Bestbuy.insert(3,'Product Name',Name)\n",
    "Bestbuy.insert(4,'Rank',Rank)\n",
    "Bestbuy.insert(5,'Current_price',Current_price)\n",
    "Bestbuy.insert(6,'Regular_price',Regular_price)\n",
    "Bestbuy.insert(7,'Product_score',Product_score)\n",
    "Bestbuy.insert(8,'Review_count',Review_count)\n",
    "    \n",
    "# to store the data frame in an excel file....\n",
    "\n",
    "Bestbuy.to_excel('Bestbuy_trends_categorywise.xlsx')"
   ]
  },
  {
   "cell_type": "markdown",
   "metadata": {},
   "source": [
    "#### Checking the dataframe for missing values....\n",
    "### looks like there are no na values\n"
   ]
  },
  {
   "cell_type": "code",
   "execution_count": 17,
   "metadata": {},
   "outputs": [
    {
     "data": {
      "text/plain": [
       "Category_id      0\n",
       "Category_name    0\n",
       "SKU              0\n",
       "Product Name     0\n",
       "Rank             0\n",
       "Current_price    0\n",
       "Regular_price    0\n",
       "Product_score    0\n",
       "Review_count     0\n",
       "dtype: int64"
      ]
     },
     "execution_count": 17,
     "metadata": {},
     "output_type": "execute_result"
    }
   ],
   "source": [
    "Bestbuy.isna().sum()\n"
   ]
  },
  {
   "cell_type": "markdown",
   "metadata": {},
   "source": [
    "#### Top 5 rows in the dataframe"
   ]
  },
  {
   "cell_type": "code",
   "execution_count": 19,
   "metadata": {},
   "outputs": [
    {
     "data": {
      "text/html": [
       "<div>\n",
       "<style scoped>\n",
       "    .dataframe tbody tr th:only-of-type {\n",
       "        vertical-align: middle;\n",
       "    }\n",
       "\n",
       "    .dataframe tbody tr th {\n",
       "        vertical-align: top;\n",
       "    }\n",
       "\n",
       "    .dataframe thead th {\n",
       "        text-align: right;\n",
       "    }\n",
       "</style>\n",
       "<table border=\"1\" class=\"dataframe\">\n",
       "  <thead>\n",
       "    <tr style=\"text-align: right;\">\n",
       "      <th></th>\n",
       "      <th>Category_id</th>\n",
       "      <th>Category_name</th>\n",
       "      <th>SKU</th>\n",
       "      <th>Product Name</th>\n",
       "      <th>Rank</th>\n",
       "      <th>Current_price</th>\n",
       "      <th>Regular_price</th>\n",
       "      <th>Product_score</th>\n",
       "      <th>Review_count</th>\n",
       "    </tr>\n",
       "  </thead>\n",
       "  <tbody>\n",
       "    <tr>\n",
       "      <th>0</th>\n",
       "      <td>abcat0100000</td>\n",
       "      <td>TV &amp; Home Theater</td>\n",
       "      <td>7652031</td>\n",
       "      <td>Chief - Fusion Fixed TV Wall Mount for Most 37...</td>\n",
       "      <td>1</td>\n",
       "      <td>167.99</td>\n",
       "      <td>277.99</td>\n",
       "      <td>0.0</td>\n",
       "      <td>0</td>\n",
       "    </tr>\n",
       "    <tr>\n",
       "      <th>1</th>\n",
       "      <td>abcat0100000</td>\n",
       "      <td>TV &amp; Home Theater</td>\n",
       "      <td>6323731</td>\n",
       "      <td>Samsung - 55\" Class - LED - 7 Series - 2160p -...</td>\n",
       "      <td>2</td>\n",
       "      <td>499.99</td>\n",
       "      <td>499.99</td>\n",
       "      <td>4.7</td>\n",
       "      <td>1730</td>\n",
       "    </tr>\n",
       "    <tr>\n",
       "      <th>2</th>\n",
       "      <td>abcat0100000</td>\n",
       "      <td>TV &amp; Home Theater</td>\n",
       "      <td>5979124</td>\n",
       "      <td>Epson - Home Cinema 1060 1080p 3LCD Projector ...</td>\n",
       "      <td>3</td>\n",
       "      <td>549.99</td>\n",
       "      <td>699.99</td>\n",
       "      <td>4.6</td>\n",
       "      <td>467</td>\n",
       "    </tr>\n",
       "    <tr>\n",
       "      <th>3</th>\n",
       "      <td>abcat0100000</td>\n",
       "      <td>TV &amp; Home Theater</td>\n",
       "      <td>5855304</td>\n",
       "      <td>Samsung - Streaming 4K Ultra HD Audio Wi-Fi Bu...</td>\n",
       "      <td>4</td>\n",
       "      <td>199.99</td>\n",
       "      <td>299.99</td>\n",
       "      <td>4.7</td>\n",
       "      <td>2591</td>\n",
       "    </tr>\n",
       "    <tr>\n",
       "      <th>4</th>\n",
       "      <td>abcat0100000</td>\n",
       "      <td>TV &amp; Home Theater</td>\n",
       "      <td>4314901</td>\n",
       "      <td>Logitech - Harmony Elite (Remote Control and S...</td>\n",
       "      <td>5</td>\n",
       "      <td>254.99</td>\n",
       "      <td>349.99</td>\n",
       "      <td>4.4</td>\n",
       "      <td>3485</td>\n",
       "    </tr>\n",
       "  </tbody>\n",
       "</table>\n",
       "</div>"
      ],
      "text/plain": [
       "    Category_id      Category_name      SKU  \\\n",
       "0  abcat0100000  TV & Home Theater  7652031   \n",
       "1  abcat0100000  TV & Home Theater  6323731   \n",
       "2  abcat0100000  TV & Home Theater  5979124   \n",
       "3  abcat0100000  TV & Home Theater  5855304   \n",
       "4  abcat0100000  TV & Home Theater  4314901   \n",
       "\n",
       "                                        Product Name  Rank  Current_price  \\\n",
       "0  Chief - Fusion Fixed TV Wall Mount for Most 37...     1         167.99   \n",
       "1  Samsung - 55\" Class - LED - 7 Series - 2160p -...     2         499.99   \n",
       "2  Epson - Home Cinema 1060 1080p 3LCD Projector ...     3         549.99   \n",
       "3  Samsung - Streaming 4K Ultra HD Audio Wi-Fi Bu...     4         199.99   \n",
       "4  Logitech - Harmony Elite (Remote Control and S...     5         254.99   \n",
       "\n",
       "   Regular_price  Product_score  Review_count  \n",
       "0         277.99            0.0             0  \n",
       "1         499.99            4.7          1730  \n",
       "2         699.99            4.6           467  \n",
       "3         299.99            4.7          2591  \n",
       "4         349.99            4.4          3485  "
      ]
     },
     "execution_count": 19,
     "metadata": {},
     "output_type": "execute_result"
    }
   ],
   "source": [
    "Bestbuy.head(5)"
   ]
  },
  {
   "cell_type": "markdown",
   "metadata": {},
   "source": [
    "### Task 5: Analyse and summarise the cleaned dataset"
   ]
  },
  {
   "cell_type": "code",
   "execution_count": 27,
   "metadata": {},
   "outputs": [
    {
     "data": {
      "text/html": [
       "<div>\n",
       "<style scoped>\n",
       "    .dataframe tbody tr th:only-of-type {\n",
       "        vertical-align: middle;\n",
       "    }\n",
       "\n",
       "    .dataframe tbody tr th {\n",
       "        vertical-align: top;\n",
       "    }\n",
       "\n",
       "    .dataframe thead th {\n",
       "        text-align: right;\n",
       "    }\n",
       "</style>\n",
       "<table border=\"1\" class=\"dataframe\">\n",
       "  <thead>\n",
       "    <tr style=\"text-align: right;\">\n",
       "      <th></th>\n",
       "      <th>Rank</th>\n",
       "      <th>Current_price</th>\n",
       "      <th>Regular_price</th>\n",
       "      <th>Product_score</th>\n",
       "      <th>Review_count</th>\n",
       "    </tr>\n",
       "  </thead>\n",
       "  <tbody>\n",
       "    <tr>\n",
       "      <th>count</th>\n",
       "      <td>5869.000000</td>\n",
       "      <td>5869.000000</td>\n",
       "      <td>5869.000000</td>\n",
       "      <td>5869.000000</td>\n",
       "      <td>5869.000000</td>\n",
       "    </tr>\n",
       "    <tr>\n",
       "      <th>mean</th>\n",
       "      <td>4.591583</td>\n",
       "      <td>255.367778</td>\n",
       "      <td>311.651176</td>\n",
       "      <td>3.713631</td>\n",
       "      <td>388.837792</td>\n",
       "    </tr>\n",
       "    <tr>\n",
       "      <th>std</th>\n",
       "      <td>2.857321</td>\n",
       "      <td>541.846991</td>\n",
       "      <td>637.802533</td>\n",
       "      <td>1.738735</td>\n",
       "      <td>1903.677972</td>\n",
       "    </tr>\n",
       "    <tr>\n",
       "      <th>min</th>\n",
       "      <td>1.000000</td>\n",
       "      <td>0.990000</td>\n",
       "      <td>2.990000</td>\n",
       "      <td>0.000000</td>\n",
       "      <td>0.000000</td>\n",
       "    </tr>\n",
       "    <tr>\n",
       "      <th>25%</th>\n",
       "      <td>2.000000</td>\n",
       "      <td>31.990000</td>\n",
       "      <td>39.990000</td>\n",
       "      <td>3.900000</td>\n",
       "      <td>2.000000</td>\n",
       "    </tr>\n",
       "    <tr>\n",
       "      <th>50%</th>\n",
       "      <td>4.000000</td>\n",
       "      <td>81.990000</td>\n",
       "      <td>99.990000</td>\n",
       "      <td>4.500000</td>\n",
       "      <td>13.000000</td>\n",
       "    </tr>\n",
       "    <tr>\n",
       "      <th>75%</th>\n",
       "      <td>7.000000</td>\n",
       "      <td>234.990000</td>\n",
       "      <td>299.990000</td>\n",
       "      <td>4.800000</td>\n",
       "      <td>123.000000</td>\n",
       "    </tr>\n",
       "    <tr>\n",
       "      <th>max</th>\n",
       "      <td>10.000000</td>\n",
       "      <td>13099.000000</td>\n",
       "      <td>13399.990000</td>\n",
       "      <td>5.000000</td>\n",
       "      <td>45869.000000</td>\n",
       "    </tr>\n",
       "  </tbody>\n",
       "</table>\n",
       "</div>"
      ],
      "text/plain": [
       "              Rank  Current_price  Regular_price  Product_score  Review_count\n",
       "count  5869.000000    5869.000000    5869.000000    5869.000000   5869.000000\n",
       "mean      4.591583     255.367778     311.651176       3.713631    388.837792\n",
       "std       2.857321     541.846991     637.802533       1.738735   1903.677972\n",
       "min       1.000000       0.990000       2.990000       0.000000      0.000000\n",
       "25%       2.000000      31.990000      39.990000       3.900000      2.000000\n",
       "50%       4.000000      81.990000      99.990000       4.500000     13.000000\n",
       "75%       7.000000     234.990000     299.990000       4.800000    123.000000\n",
       "max      10.000000   13099.000000   13399.990000       5.000000  45869.000000"
      ]
     },
     "execution_count": 27,
     "metadata": {},
     "output_type": "execute_result"
    }
   ],
   "source": [
    "Bestbuy.describe()"
   ]
  },
  {
   "cell_type": "code",
   "execution_count": 391,
   "metadata": {},
   "outputs": [
    {
     "name": "stdout",
     "output_type": "stream",
     "text": [
      "Minimum Value for Rank 1\n",
      "Maximum value for Rank 10\n",
      "Minimum Value for Product_score 0.0\n",
      "Maximum Value for Product_score 5.0\n",
      "Minimum Value for Review_count 0\n",
      "Maximum Value for Review_count 45869\n"
     ]
    },
    {
     "data": {
      "text/plain": [
       "<matplotlib.axes._subplots.AxesSubplot at 0x24156156a20>"
      ]
     },
     "execution_count": 391,
     "metadata": {},
     "output_type": "execute_result"
    },
    {
     "data": {
      "image/png": "[encoded data removed]",
      "text/plain": [
       "<Figure size 432x288 with 1 Axes>"
      ]
     },
     "metadata": {
      "needs_background": "light"
     },
     "output_type": "display_data"
    }
   ],
   "source": [
    "# for Ranks\n",
    "print(\"Minimum Value for Rank\",min(Bestbuy['Rank']))\n",
    "print(\"Maximum value for Rank\",max(Bestbuy['Rank']))\n",
    "\n",
    "# for Product_score\n",
    "\n",
    "print(\"Minimum Value for Product_score\",min(Bestbuy['Product_score']))\n",
    "print(\"Maximum Value for Product_score\",max(Bestbuy['Product_score']))\n",
    "\n",
    "# for Review_count\n",
    "\n",
    "print(\"Minimum Value for Review_count\",min(Bestbuy['Review_count']))\n",
    "print(\"Maximum Value for Review_count\",max(Bestbuy['Review_count']))\n",
    "\n",
    "\n",
    "sns.boxplot('Product_score',data=Bestbuy)"
   ]
  },
  {
   "cell_type": "markdown",
   "metadata": {},
   "source": [
    "### As we can see from the graph, the 25 and 75 percentiles are scattered around ratings 4 and 5....."
   ]
  },
  {
   "cell_type": "code",
   "execution_count": 51,
   "metadata": {},
   "outputs": [
    {
     "name": "stdout",
     "output_type": "stream",
     "text": [
      "The minimum discount given for a product in BestBuy US is 0.0 %\n",
      "The maximum discount given for a product in BestBuy US is 85.0 %\n"
     ]
    },
    {
     "data": {
      "text/plain": [
       "<matplotlib.axes._subplots.AxesSubplot at 0x1e9813810b8>"
      ]
     },
     "execution_count": 51,
     "metadata": {},
     "output_type": "execute_result"
    },
    {
     "data": {
      "image/png": "[encoded data removed]",
      "text/plain": [
       "<Figure size 432x288 with 1 Axes>"
      ]
     },
     "metadata": {
      "needs_background": "light"
     },
     "output_type": "display_data"
    }
   ],
   "source": [
    "# Ranges of % discount given on the products\n",
    "# adding one column in the dataset to return the values of discount for the products\n",
    "\n",
    "Bestbuy['%discount'] = round(((Bestbuy['Regular_price']-Bestbuy['Current_price'])*100/Bestbuy['Regular_price']),2)\n",
    "\n",
    "\n",
    "#seletd['%discount'] = round(((seletd['Regular_price']-seletd['Current_price'])*100/seletd['Regular_price']))\n",
    "\n",
    "\n",
    "print(\"The minimum discount given for a product in BestBuy US is\",min(Bestbuy['%discount']),\"%\")\n",
    "\n",
    "print(\"The maximum discount given for a product in BestBuy US is\",max(Bestbuy['%discount']),\"%\")\n",
    "\n",
    "\n",
    "sns.boxplot('%discount',data=Bestbuy)\n"
   ]
  },
  {
   "cell_type": "markdown",
   "metadata": {},
   "source": [
    "### The discounts given to the items are scattered around 15 to 25 % and the mean is around 20 for the same..."
   ]
  },
  {
   "cell_type": "markdown",
   "metadata": {},
   "source": [
    "###"
   ]
  },
  {
   "cell_type": "code",
   "execution_count": 52,
   "metadata": {},
   "outputs": [
    {
     "data": {
      "text/plain": [
       "<matplotlib.axes._subplots.AxesSubplot at 0x1e9813b6320>"
      ]
     },
     "execution_count": 52,
     "metadata": {},
     "output_type": "execute_result"
    },
    {
     "data": {
      "image/png": "[encoded data removed]",
      "text/plain": [
       "<Figure size 432x288 with 1 Axes>"
      ]
     },
     "metadata": {
      "needs_background": "light"
     },
     "output_type": "display_data"
    }
   ],
   "source": [
    "sns.distplot(Bestbuy['Current_price'])"
   ]
  },
  {
   "cell_type": "markdown",
   "metadata": {},
   "source": [
    "### The distplot shows that the 'Current'prices for products in Bestbuy are skewed towards right....\n",
    "#### Most of the products have prices between 0 and $2000 "
   ]
  },
  {
   "cell_type": "markdown",
   "metadata": {},
   "source": [
    "### There are a total of 1019 unique categories in the data set"
   ]
  },
  {
   "cell_type": "code",
   "execution_count": 35,
   "metadata": {},
   "outputs": [
    {
     "name": "stdout",
     "output_type": "stream",
     "text": [
      "1019\n"
     ]
    }
   ],
   "source": [
    "print(len(Bestbuy['Category_id'].unique()))"
   ]
  },
  {
   "cell_type": "markdown",
   "metadata": {},
   "source": [
    "## Task 5.1\n",
    "\n",
    "### As the products mentioned in the Dataset are not categorised into filters, lets start by segregating them according to their names...."
   ]
  },
  {
   "cell_type": "code",
   "execution_count": 53,
   "metadata": {},
   "outputs": [],
   "source": [
    "# to store the categories into specific subsets for easier calculations\n",
    "\n",
    "TV_Speakers = Bestbuy['Category_name'].str.contains('TV|Speaker',regex=True)\n",
    "Gaming  = Bestbuy['Category_name'].str.contains('PS4|Xbox|Nintendo',regex=True)\n",
    "Apple = Bestbuy['Category_name'].str.contains('Apple|iPad',regex=True)\n",
    "Computer = Bestbuy['Category_name'].str.contains('PC|Laptop|Computer|Keyboard|Software|Memory|Motherboards|Desktop|Monitor|Headphone|Disk',regex=True)\n",
    "Car_access = Bestbuy['Category_name'].str.contains('Car',regex=True)\n",
    "Camera = Bestbuy['Category_name'].str.contains('Camera|Camcorders|Telescopes|Bino|DSLR|flashes',regex=True)\n",
    "Phone = Bestbuy['Category_name'].str.contains('Cell Phone|Batteries & Chargers|Phone Cases|Telephone Accessories',regex=True)\n",
    "Office = Bestbuy['Category_name'].str.contains('Office|Desk|Tax|Scanners|Shredders|Ink|Toner|Heater|Air',regex=True)\n",
    "Kitchen = Bestbuy['Category_name'].str.contains('Kitchen|Cookware|Wash|Machine|Food')\n",
    "Hygine = Bestbuy['Category_name'].str.contains('Men|Women|Shave|Hair|Oral|Care|Bath|Sleep|Massag')\n",
    "\n",
    "categories_filter = [TV_Speakers,Gaming,Apple,Computer,Car_access,Camera,Phone,Office,Kitchen,Hygine]\n",
    "categoties_name = ['TV_Speakers','Gaming','Apple','Computer','Car_access','Camera','Phone','Office','Kitchen','Hygine']\n",
    "\n",
    "\n"
   ]
  },
  {
   "cell_type": "markdown",
   "metadata": {},
   "source": [
    "## BestBuy is an electronic  retail giant.... \n",
    "### From amoung the different trending categories, we can classify the products as either of the following sub-sections\n",
    "\n",
    "#### Related to T.V\n",
    "#### Gaming\n",
    "#### Mobile phones and accessories\n",
    "#### Kitchen equipments and related products\n",
    "#### PC related\n",
    "#### Cameras and accessories\n",
    "#### Apple products \n",
    "#### Car related products\n",
    "#### Office related products\n",
    "\n",
    "##### Lets segregate our data into these categories for better visualization purposes...."
   ]
  },
  {
   "cell_type": "markdown",
   "metadata": {},
   "source": [
    "## Let's check if the ranking of the products has to do something with the reviews given by the user"
   ]
  },
  {
   "cell_type": "code",
   "execution_count": 81,
   "metadata": {},
   "outputs": [],
   "source": [
    "# Let us now compare the average review count and product scores category wise....\n",
    "\n",
    "def average_count(catego,cate_name,rank):\n",
    "    seletd = Bestbuy[catego][(Bestbuy[catego]).Rank==rank]\n",
    "    #print(\"The Average Review_count of \",cate_name, \"is\",round((seletd['Review_count']).mean(),2),\"with Rank\",rank)\n",
    "    x= round((seletd['Review_count']).mean(),2)\n",
    "    y = cate_name\n",
    "    plt.xlabel(\"Categories\")\n",
    "    plt.bar(y,x)\n",
    " "
   ]
  },
  {
   "cell_type": "code",
   "execution_count": 82,
   "metadata": {},
   "outputs": [
    {
     "data": {
      "image/png": "[encoded data removed]",
      "text/plain": [
       "<Figure size 720x360 with 1 Axes>"
      ]
     },
     "metadata": {
      "needs_background": "light"
     },
     "output_type": "display_data"
    }
   ],
   "source": [
    "# Graphs for Review count for rank  #1\n",
    "\n",
    "fig = plt.figure(figsize=(10,5))\n",
    "for i in range(len(categories_filter)):\n",
    "    average_count(categories_filter[i],categoties_name[i],1)\n",
    "    \n",
    "    #average_count(categories_filter[i],categoties_name[i],2)  \n",
    "   \n",
    "    \n"
   ]
  },
  {
   "cell_type": "markdown",
   "metadata": {},
   "source": [
    "## The graph shows the average review count for products with Ranking as #1, and as evident from the graph, it ranges from 0 to about 2500....\n",
    "\n",
    "### Lets plotting the graphs for Ranks #2 and #3  "
   ]
  },
  {
   "cell_type": "code",
   "execution_count": 83,
   "metadata": {},
   "outputs": [
    {
     "name": "stdout",
     "output_type": "stream",
     "text": [
      "For Rank# 2\n"
     ]
    },
    {
     "data": {
      "image/png": "[encoded data removed]",
      "text/plain": [
       "<Figure size 720x360 with 1 Axes>"
      ]
     },
     "metadata": {
      "needs_background": "light"
     },
     "output_type": "display_data"
    }
   ],
   "source": [
    "# Graphs for Review count for rank  #2\n",
    "fig = plt.figure(figsize=(10,5))\n",
    "for i in range(len(categories_filter)):\n",
    "    average_count(categories_filter[i],categoties_name[i],2)\n",
    "print(\"For Rank# 2\")"
   ]
  },
  {
   "cell_type": "code",
   "execution_count": 84,
   "metadata": {},
   "outputs": [
    {
     "name": "stdout",
     "output_type": "stream",
     "text": [
      "For Rank# 3\n"
     ]
    },
    {
     "data": {
      "image/png": "[encoded data removed]",
      "text/plain": [
       "<Figure size 720x360 with 1 Axes>"
      ]
     },
     "metadata": {
      "needs_background": "light"
     },
     "output_type": "display_data"
    }
   ],
   "source": [
    "# Graphs for Review count for rank  #3\n",
    "fig = plt.figure(figsize=(10,5))\n",
    "for i in range(len(categories_filter)):\n",
    "    average_count(categories_filter[i],categoties_name[i],3)\n",
    "print(\"For Rank# 3\")"
   ]
  },
  {
   "cell_type": "markdown",
   "metadata": {},
   "source": [
    "# One intersting thing to note from the above graphs is that the Trending ranking of the product is independent of the count of reviews received by it, moreover, the products having Rank #1, have fewer reviews received as compared to the Rank #2 and #3 \n",
    "### Gaming products tend to get more counts of reviews for all rankings..."
   ]
  },
  {
   "cell_type": "markdown",
   "metadata": {},
   "source": [
    "### On similar lines lets check if the Product Score has any effect on the trending ranks of the Product overall"
   ]
  },
  {
   "cell_type": "code",
   "execution_count": 58,
   "metadata": {},
   "outputs": [],
   "source": [
    "# Let us now compare the average product score and trending rank....\n",
    "\n",
    "def average_count(catego,cate_name,rank):\n",
    "    seletd = Bestbuy[catego][(Bestbuy[catego]).Rank==rank]\n",
    "    #print(\"The Average Review_count of \",cate_name, \"is\",round((seletd['Review_count']).mean(),2),\"with Rank\",rank)\n",
    "    x= round((seletd['Product_score']).mean(),2)\n",
    "    y = cate_name\n",
    "    plt.bar(y,x)"
   ]
  },
  {
   "cell_type": "code",
   "execution_count": 59,
   "metadata": {},
   "outputs": [
    {
     "name": "stdout",
     "output_type": "stream",
     "text": [
      "Rank #1\n"
     ]
    },
    {
     "data": {
      "image/png": "[encoded data removed]",
      "text/plain": [
       "<Figure size 720x360 with 1 Axes>"
      ]
     },
     "metadata": {
      "needs_background": "light"
     },
     "output_type": "display_data"
    }
   ],
   "source": [
    "# Graphs for Average Product Score for rank  #1\n",
    "\n",
    "fig = plt.figure(figsize=(10,5))\n",
    "for i in range(len(categories_filter)):\n",
    "    average_count(categories_filter[i],categoties_name[i],1)\n",
    "print('Rank #1')\n",
    "    "
   ]
  },
  {
   "cell_type": "code",
   "execution_count": 60,
   "metadata": {},
   "outputs": [
    {
     "name": "stdout",
     "output_type": "stream",
     "text": [
      "Rank #2\n"
     ]
    },
    {
     "data": {
      "image/png": "[encoded data removed]",
      "text/plain": [
       "<Figure size 720x360 with 1 Axes>"
      ]
     },
     "metadata": {
      "needs_background": "light"
     },
     "output_type": "display_data"
    }
   ],
   "source": [
    "# Graphs for Average Product Score for rank  #2\n",
    "\n",
    "fig = plt.figure(figsize=(10,5))\n",
    "for i in range(len(categories_filter)):\n",
    "    average_count(categories_filter[i],categoties_name[i],2)\n",
    "print('Rank #2')\n",
    "     "
   ]
  },
  {
   "cell_type": "code",
   "execution_count": 61,
   "metadata": {},
   "outputs": [
    {
     "name": "stdout",
     "output_type": "stream",
     "text": [
      "Rank #3\n"
     ]
    },
    {
     "data": {
      "image/png": "[encoded data removed]",
      "text/plain": [
       "<Figure size 720x360 with 1 Axes>"
      ]
     },
     "metadata": {
      "needs_background": "light"
     },
     "output_type": "display_data"
    }
   ],
   "source": [
    "# Graphs for Average Product Score for rank  #3\n",
    "\n",
    "fig = plt.figure(figsize=(10,5))\n",
    "for i in range(len(categories_filter)):\n",
    "    average_count(categories_filter[i],categoties_name[i],3)\n",
    "print('Rank #3')\n",
    "     "
   ]
  },
  {
   "cell_type": "markdown",
   "metadata": {},
   "source": [
    "## All the Ranking #1,#2,#3 show an equal co-realtion between the average customer ratings and the trending ranks, which means that the trending ranks has to be dependent on some other factors than the average rating scored by the user.... "
   ]
  },
  {
   "cell_type": "markdown",
   "metadata": {},
   "source": [
    "## Lets now see if the immediate (mean) % discounts offered to the user has any correlation to the ranks of the products..."
   ]
  },
  {
   "cell_type": "code",
   "execution_count": 62,
   "metadata": {},
   "outputs": [
    {
     "data": {
      "image/png": "[encoded data removed]",
      "text/plain": [
       "<Figure size 1008x360 with 5 Axes>"
      ]
     },
     "metadata": {
      "needs_background": "light"
     },
     "output_type": "display_data"
    }
   ],
   "source": [
    "Bestbuy[TV_Speakers][Bestbuy[TV_Speakers].Rank<=3]\n",
    "fig = plt.figure(figsize=(14,5))\n",
    "plt.subplot(1, 5, 1)\n",
    "sns.boxplot(y='%discount',x='Rank',data=Bestbuy[TV_Speakers][Bestbuy[TV_Speakers].Rank<=3]).set_title('TV_Speakers')\n",
    "plt.subplot(1, 5, 2)\n",
    "sns.boxplot(y='%discount',x='Rank',data=Bestbuy[Gaming][Bestbuy[Gaming].Rank<=3]).set_title('Gaming')\n",
    "plt.subplot(1, 5, 3)\n",
    "sns.boxplot(y='%discount',x='Rank',data=Bestbuy[Apple][Bestbuy[Apple].Rank<=3]).set_title('Apple')\n",
    "plt.subplot(1, 5, 4)\n",
    "sns.boxplot(y='%discount',x='Rank',data=Bestbuy[Computer][Bestbuy[Computer].Rank<=3]).set_title('Computer')\n",
    "plt.subplot(1, 5, 5)\n",
    "sns.boxplot(y='%discount',x='Rank',data=Bestbuy[Car_access][Bestbuy[Car_access].Rank<=3]).set_title('Car_access')\n",
    "\n",
    "plt.tight_layout()"
   ]
  },
  {
   "cell_type": "code",
   "execution_count": 63,
   "metadata": {},
   "outputs": [
    {
     "data": {
      "image/png": "[encoded data removed]",
      "text/plain": [
       "<Figure size 1008x360 with 5 Axes>"
      ]
     },
     "metadata": {
      "needs_background": "light"
     },
     "output_type": "display_data"
    }
   ],
   "source": [
    "Bestbuy[TV_Speakers][Bestbuy[TV_Speakers].Rank<=3]\n",
    "fig = plt.figure(figsize=(14,5))\n",
    "plt.subplot(1, 5, 1)\n",
    "sns.boxplot(y='%discount',x='Rank',data=Bestbuy[Camera][Bestbuy[Camera].Rank<=3]).set_title('Camera')\n",
    "plt.subplot(1, 5, 2)\n",
    "sns.boxplot(y='%discount',x='Rank',data=Bestbuy[Phone][Bestbuy[Phone].Rank<=3]).set_title('Phone')\n",
    "plt.subplot(1, 5, 3)\n",
    "sns.boxplot(y='%discount',x='Rank',data=Bestbuy[Office][Bestbuy[Office].Rank<=3]).set_title('Office')\n",
    "plt.subplot(1, 5, 4)\n",
    "sns.boxplot(y='%discount',x='Rank',data=Bestbuy[Kitchen][Bestbuy[Kitchen].Rank<=3]).set_title('Kitchen')\n",
    "plt.subplot(1, 5, 5)\n",
    "sns.boxplot(y='%discount',x='Rank',data=Bestbuy[Hygine][Bestbuy[Hygine].Rank<=3]).set_title('Hygine')\n",
    "\n",
    "plt.tight_layout()\n",
    "#'Camera','Phone','Office','Kitchen','Hygine"
   ]
  },
  {
   "cell_type": "markdown",
   "metadata": {},
   "source": [
    "### As its quite visible from the boxplot above,TV_Speakers, Gaming, Phone, Office and Hygine products, Tending Rank is based on the amount of discounts provided to the user.....\n",
    "\n",
    "### On the other hand, for categories of Apple, Camera, Computers,Car accessories, Kitchenware  related products the ranking is independent to the discounts provided, most probably to the fact that either these products have a huge fan base like Apple, so that discounts is not necessary for selling them or customers are more reluntant to buy a product with more features/quality over the discounts offered for the same."
   ]
  },
  {
   "cell_type": "markdown",
   "metadata": {},
   "source": [
    "### Using the heat map to get more overview on the correlation of the columns in the dataset"
   ]
  },
  {
   "cell_type": "code",
   "execution_count": 79,
   "metadata": {},
   "outputs": [
    {
     "data": {
      "text/plain": [
       "<matplotlib.axes._subplots.AxesSubplot at 0x1e98c5cccc0>"
      ]
     },
     "execution_count": 79,
     "metadata": {},
     "output_type": "execute_result"
    },
    {
     "data": {
      "image/png": "[encoded data removed]",
      "text/plain": [
       "<Figure size 432x288 with 2 Axes>"
      ]
     },
     "metadata": {
      "needs_background": "light"
     },
     "output_type": "display_data"
    }
   ],
   "source": [
    "correlation = Bestbuy[4:8].corr()\n",
    "sns.heatmap(correlation)"
   ]
  },
  {
   "cell_type": "markdown",
   "metadata": {},
   "source": [
    "#### While reading the above map, one thing that should be noted that is Rank is considered as a numerical (though ordinal)value, meaning for example if we consider the relation between '% discount' and 'rank', it shows that somewhat inversly correlated, it could be interpreted as for lesser rank of products, the % discount is higher...."
   ]
  },
  {
   "cell_type": "markdown",
   "metadata": {},
   "source": [
    "#### If we consider the review count and the correlation with rank, we have a similar strong inverse relation\n",
    "\n",
    "#### On the other hand, if we consider the comparison of '%discount' with 'Review_count', there exists a strong direct relation. \n",
    "\n"
   ]
  },
  {
   "cell_type": "markdown",
   "metadata": {},
   "source": [
    "## Tentative conclusion :"
   ]
  },
  {
   "cell_type": "markdown",
   "metadata": {},
   "source": [
    "#### The data suggests that a product becomes a trending (Rank #1) mostly because of the higher %discount offered, higher review_count and the high product_score it has gained.\n",
    "#### We were also able to see that amoung the categories of the product, some become treding just because of the discounts offered to them. The category 'Phone' is one of the most prominent amoung them.\n",
    "\n",
    "#### In general, the products that have secured Rank #1 (or the most trending category) have a more strong relation with %discount offered, counts of reviews and product scores than Rank#2 or Rank#3. "
   ]
  }
 ],
 "metadata": {
  "kernelspec": {
   "display_name": "Python 3",
   "language": "python",
   "name": "python3"
  },
  "language_info": {
   "codemirror_mode": {
    "name": "ipython",
    "version": 3
   },
   "file_extension": ".py",
   "mimetype": "text/x-python",
   "name": "python",
   "nbconvert_exporter": "python",
   "pygments_lexer": "ipython3",
   "version": "3.7.3"
  }
 },
 "nbformat": 4,
 "nbformat_minor": 2
}
